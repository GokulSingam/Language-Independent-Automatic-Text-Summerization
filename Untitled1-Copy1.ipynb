{
 "cells": [
  {
   "cell_type": "code",
   "execution_count": 2,
   "id": "4cec7f35",
   "metadata": {},
   "outputs": [],
   "source": [
    "from nltk.tokenize import sent_tokenize\n",
    "from sklearn.metrics import silhouette_score\n",
    "import pandas as pd\n",
    "import random\n",
    "import numpy as np \n",
    "#getting data\n",
    "articles= pd.read_csv(\"c:\\\\Gokul\\\\miniproject\\\\archive\\\\cnn_dailymail\\\\new.csv\")\n",
    "text=articles['article'][0]"
   ]
  },
  {
   "cell_type": "code",
   "execution_count": 3,
   "id": "deee0cc2",
   "metadata": {},
   "outputs": [],
   "source": [
    "#population initalisation\n",
    "def initial_population(pop_len):\n",
    "    initial_pop=[]\n",
    "    for i in range(pop_len):\n",
    "        z=[]\n",
    "        for j in range(pop_len):\n",
    "            z.append(random.randint(0,1))\n",
    "        initial_pop.append(z)\n",
    "    return initial_pop"
   ]
  },
  {
   "cell_type": "code",
   "execution_count": 4,
   "id": "dad6a729",
   "metadata": {},
   "outputs": [],
   "source": [
    "def calculate_fitness(population):\n",
    "    fitness=[]\n",
    "    for i in range(len(population)):\n",
    "        sil_score=silhouette_score(population,population[i],metric=\"euclidean\")\n",
    "        fitness.append(sil_score)\n",
    "    return fitness"
   ]
  },
  {
   "cell_type": "code",
   "execution_count": 5,
   "id": "37156920",
   "metadata": {},
   "outputs": [],
   "source": [
    "\n",
    "def get_probability(fitness):\n",
    "    total_fit = sum(fitness)\n",
    "    relative_fitness = [f/total_fit for f in fitness]\n",
    "    probabilities = [sum(relative_fitness[:i+1]) \n",
    "                     for i in range(len(relative_fitness))]\n",
    "    p=np.array(probabilities)\n",
    "    return p"
   ]
  },
  {
   "cell_type": "code",
   "execution_count": 6,
   "id": "aaccd3c9",
   "metadata": {},
   "outputs": [],
   "source": [
    "def selection(population, probabilities, number):\n",
    "    chosen = []\n",
    "    for n in range(number):\n",
    "        r = random.random()\n",
    "        for (i, individual) in enumerate(population):\n",
    "            if r <= probabilities[i]:\n",
    "                chosen.append(list(individual))\n",
    "                break\n",
    "    return chosen"
   ]
  },
  {
   "cell_type": "code",
   "execution_count": 7,
   "id": "766d7132",
   "metadata": {},
   "outputs": [],
   "source": [
    "def crossover(parents):\n",
    "    length = len(parents[0])\n",
    "    children = [] \n",
    "    if random.random()<0.7 :\n",
    "        r1 = random.randrange(0, length)\n",
    "        r2 = random.randrange(0, length)\n",
    "      \n",
    "        if r1 < r2:\n",
    "            children.append(parents[0][:r1] + parents[1][r1:r2] + parents[0][r2:])\n",
    "            children.append(parents[1][:r1] + parents[0][r1:r2] + parents[1][r2:])\n",
    "        else:\n",
    "            children.append(parents[0][:r2] + parents[1][r2:r1] + parents[0][r1:])\n",
    "            children.append(parents[1][:r2] + parents[0][r2:r1] + parents[1][r1:])\n",
    "    else:\n",
    "        children.append(parents[0])\n",
    "        children.append(parents[1])\n",
    "    return children"
   ]
  },
  {
   "cell_type": "code",
   "execution_count": 8,
   "id": "065cb26f",
   "metadata": {},
   "outputs": [],
   "source": [
    "def bitflip(bit): # used in mutation \n",
    "    if bit == 0:\n",
    "        bit=1\n",
    "    elif bit==1:\n",
    "        bit=0\n",
    "    return bit"
   ]
  },
  {
   "cell_type": "code",
   "execution_count": 9,
   "id": "99a2dcef",
   "metadata": {},
   "outputs": [],
   "source": [
    "def mutation(individual):\n",
    " # bitwise mutation with probability PROB_MUTATION\n",
    "    for i in range(len(individual)):\n",
    "        if random.random()< 0.3:\n",
    "            individual[i]=bitflip(individual[i])\n",
    "    return(individual)"
   ]
  },
  {
   "cell_type": "code",
   "execution_count": 19,
   "id": "cc6bd6ff",
   "metadata": {},
   "outputs": [],
   "source": [
    "def genetic_algorithm(population,n):\n",
    "    if n==0:\n",
    "        print(population)\n",
    "        fitness=calculate_fitness(population)\n",
    "        temp_fit=fitness.copy()\n",
    "        fitness.sort()\n",
    "        fitness.reverse()\n",
    "        new_pop=[]\n",
    "        for i in range(len(fitness)):\n",
    "            for j in range(len(fitness)):\n",
    "                if fitness[i]==temp_fit[j]:\n",
    "                    new_pop.append(population[j])\n",
    "                    break\n",
    "        return new_pop\n",
    "    else:\n",
    "        fitness=calculate_fitness(population)\n",
    "        probabilities=get_probability(fitness)\n",
    "        rang=int(len(pop)/2)\n",
    "        new_pop=[]\n",
    "        if rang%2==1:\n",
    "            rang+=1\n",
    "        for i in range(rang):\n",
    "            parents=selection(population, probabilities, 2)\n",
    "            children=crossover(parents)\n",
    "            for i in children:\n",
    "                new_pop.append(mutation(i))\n",
    "        return genetic_algorithm(new_pop,n-1)"
   ]
  },
  {
   "cell_type": "code",
   "execution_count": 20,
   "id": "d3c41d7f",
   "metadata": {},
   "outputs": [
    {
     "name": "stdout",
     "output_type": "stream",
     "text": [
      "[[1, 1, 0, 1, 0, 1, 1, 0, 0, 0, 1, 1, 0, 0, 0, 0], [0, 0, 1, 0, 0, 0, 0, 0, 1, 0, 1, 0, 0, 1, 1, 0], [0, 1, 1, 0, 1, 1, 0, 0, 0, 0, 0, 0, 1, 0, 0, 0], [1, 0, 1, 1, 0, 0, 0, 1, 0, 0, 0, 1, 0, 0, 0, 0], [1, 0, 0, 1, 1, 0, 0, 0, 1, 0, 0, 1, 0, 1, 0, 0], [0, 1, 1, 0, 1, 0, 0, 0, 1, 0, 1, 0, 0, 0, 1, 0], [1, 0, 1, 0, 0, 1, 0, 0, 0, 0, 1, 1, 1, 1, 1, 0], [1, 0, 0, 1, 0, 1, 1, 1, 0, 0, 0, 1, 0, 1, 1, 0], [1, 1, 0, 0, 0, 1, 0, 0, 0, 1, 0, 0, 1, 1, 0, 1], [0, 1, 1, 0, 0, 1, 0, 0, 0, 0, 1, 0, 0, 1, 1, 0], [0, 1, 0, 0, 1, 0, 1, 0, 0, 0, 1, 1, 0, 1, 1, 0], [0, 0, 0, 1, 0, 1, 0, 0, 0, 1, 1, 0, 1, 0, 0, 0], [1, 1, 0, 0, 0, 0, 1, 0, 0, 0, 0, 1, 1, 1, 1, 0], [0, 1, 0, 0, 1, 0, 0, 0, 1, 0, 0, 0, 0, 1, 0, 0], [0, 1, 1, 0, 1, 0, 0, 1, 1, 1, 0, 1, 0, 1, 0, 1], [0, 1, 0, 0, 0, 0, 0, 0, 0, 1, 0, 1, 1, 1, 1, 0]]\n",
      "[[0, 1, 1, 0, 0, 1, 0, 0, 0, 0, 1, 0, 0, 1, 1, 0], [1, 0, 1, 1, 0, 0, 0, 1, 0, 0, 0, 1, 0, 0, 0, 0], [1, 0, 0, 1, 1, 0, 0, 0, 1, 0, 0, 1, 0, 1, 0, 0], [0, 0, 1, 0, 0, 0, 0, 0, 1, 0, 1, 0, 0, 1, 1, 0], [1, 1, 0, 1, 0, 1, 1, 0, 0, 0, 1, 1, 0, 0, 0, 0], [1, 0, 1, 0, 0, 1, 0, 0, 0, 0, 1, 1, 1, 1, 1, 0], [0, 1, 0, 0, 1, 0, 0, 0, 1, 0, 0, 0, 0, 1, 0, 0], [1, 1, 0, 0, 0, 1, 0, 0, 0, 1, 0, 0, 1, 1, 0, 1], [0, 1, 0, 0, 1, 0, 1, 0, 0, 0, 1, 1, 0, 1, 1, 0], [0, 1, 1, 0, 1, 0, 0, 1, 1, 1, 0, 1, 0, 1, 0, 1], [1, 0, 0, 1, 0, 1, 1, 1, 0, 0, 0, 1, 0, 1, 1, 0], [0, 1, 1, 0, 1, 0, 0, 0, 1, 0, 1, 0, 0, 0, 1, 0], [0, 0, 0, 1, 0, 1, 0, 0, 0, 1, 1, 0, 1, 0, 0, 0], [0, 1, 1, 0, 1, 1, 0, 0, 0, 0, 0, 0, 1, 0, 0, 0], [0, 1, 0, 0, 0, 0, 0, 0, 0, 1, 0, 1, 1, 1, 1, 0], [1, 1, 0, 0, 0, 0, 1, 0, 0, 0, 0, 1, 1, 1, 1, 0]]\n"
     ]
    }
   ],
   "source": [
    "pop=initial_population(16)\n",
    "z=genetic_algorithm(pop,150)\n",
    "print(z)"
   ]
  },
  {
   "cell_type": "code",
   "execution_count": 139,
   "id": "d1e29ea4",
   "metadata": {},
   "outputs": [],
   "source": [
    "# def geneticAlgorithm(pop_len):\n",
    "#     pop=[]\n",
    "#     pop=initial_population(pop_len)\n",
    "#     str_pop=[]\n",
    "#     for i in pop:\n",
    "#         z=''.join([str(elem) for elem in i])\n",
    "#         str_pop.append(z)\n",
    "#     fitness=[]\n",
    "#     fitness=calculate_fitness(pop)\n",
    "#     dictionary={}\n",
    "#     dictionary=create_dict(str_pop,fitness)\n",
    "#     for i in range(50):\n",
    "#         children=[]\n",
    "#         parent_fitness=[]\n",
    "#         for i in dictionary.values():\n",
    "#             parent_fitness.append(i)\n",
    "#         probabilities=get_probability_list(dictionary.values())\n",
    "#         rang=int(len(pop)/2)\n",
    "#         if rang%2==1:\n",
    "#             rang+=1\n",
    "#         for i in range(rang):\n",
    "#             x=selection(pop,probabilities,2)\n",
    "#             temp=crossover(x)\n",
    "#             for i in temp:\n",
    "#                 z=mutation(i)\n",
    "#                 children.append(z)\n",
    "#         child_fitness=calculate_fitness(children)\n",
    "#         for i in child_fitness:\n",
    "#             parent_fitness.append(child_fitness)\n",
    "#         dictionary.clear()\n",
    "#         print(dictionary)\n",
    "#         for i in children:\n",
    "#             z=''.join([str(elem) for elem in i])\n",
    "#             str_pop.append(z)\n",
    "#         dictionary=create_dict(str_pop,parent_fitness)\n",
    "# #         parent_fitness.sort()\n",
    "# #         sortpe(ed_dict = {}\n",
    "# #)         for i in sorted_values:\n",
    "# #             for k in dictionary.keys():\n",
    "# #                 if dictionary[k] == i:\n",
    "# #                     sorted_dict[k] = dictionary[k]\n",
    "# #                     break\n",
    "# #         dictionary=sorted_dict\n",
    "# #         print(dictionary)\n",
    "        \n",
    "            "
   ]
  },
  {
   "cell_type": "code",
   "execution_count": 140,
   "id": "099206fc",
   "metadata": {},
   "outputs": [],
   "source": [
    "geneticAlgorithm(32)"
   ]
  },
  {
   "cell_type": "code",
   "execution_count": null,
   "id": "634a2864",
   "metadata": {},
   "outputs": [],
   "source": []
  },
  {
   "cell_type": "code",
   "execution_count": null,
   "id": "75c0fb44",
   "metadata": {},
   "outputs": [],
   "source": []
  }
 ],
 "metadata": {
  "kernelspec": {
   "display_name": "Python 3 (ipykernel)",
   "language": "python",
   "name": "python3"
  },
  "language_info": {
   "codemirror_mode": {
    "name": "ipython",
    "version": 3
   },
   "file_extension": ".py",
   "mimetype": "text/x-python",
   "name": "python",
   "nbconvert_exporter": "python",
   "pygments_lexer": "ipython3",
   "version": "3.9.12"
  }
 },
 "nbformat": 4,
 "nbformat_minor": 5
}
